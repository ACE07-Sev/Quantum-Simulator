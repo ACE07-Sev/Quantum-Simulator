{
 "cells": [
  {
   "cell_type": "markdown",
   "id": "2877622f-5e04-4b5b-8c0d-7514908981dc",
   "metadata": {},
   "source": [
    "## Task 1 : Quantum Simulator from Scratch\n",
    "In this notebook, we will implement a Quantum Simulator from scratch, meaning we will not be using any pre-built libraries or packages. The simulator will take a stare and a gate and output a probability distribution as a string. The idea is quite simple. \n",
    "\n",
    "### Quantum State\n",
    "We represent the state of any given system quantum mechanically using Quantum states. Quantum states represent a system in terms of its measurable/observable outcomes, where each outcome has some probability of being observed. We represent a general N-dimensional Quantum state using a vector of complex values as follows :\n",
    "\n",
    "$[a1, a2, . . . , aN]$\n",
    "\n",
    "Where a1, a2, . . . , aN are the **probability amplitudes** for each observable outcome. In Quantum Mechanics, we use probability amplitudes, which are complex values, and this complex nature is what allows us to have quantum properties such as interference (as compared to classical probability theory where we do not observe any interference such as cancelling behaviors given we never have any negative probabilities). \n",
    "\n",
    "### Quantum Gate\n",
    "We represent any operation to be applied to our Quantum state using Quantum gates. Quantum gates are applied to Quantum states as operations and in doing so, they change the Quantum states' values, thus the definition of a system is changed. When we apply multiple, we get an **evolution** for a system. Quantum gates are represented by unitary matrices of complex values i.e., the X gate which performs a bit flip :\n",
    "\n",
    "$ \\begin{bmatrix}\n",
    "0 & 1 \\\\\n",
    "1 & 0 \n",
    "\\end{bmatrix}  $\n",
    "\n",
    "### Quantum Simulator\n",
    "In Quantum Mechanics, we have states and operations, and we perform a computation by applying an operation to a state. A Quantum simulator is essentially a linear simulator, which takes a vector and a matrix, and multiplies them together to derive a new vector. "
   ]
  },
  {
   "cell_type": "markdown",
   "id": "16839285-548f-42e1-a7ba-a96eba95bd52",
   "metadata": {},
   "source": [
    "We will begin by importing two packages for convenience, random and math."
   ]
  },
  {
   "cell_type": "code",
   "execution_count": 2,
   "id": "6db8fb61-67f7-410e-bd6a-618db3f42040",
   "metadata": {
    "tags": []
   },
   "outputs": [],
   "source": [
    "# General imports\n",
    "import random\n",
    "import math \n",
    "import numpy as np \n",
    "import itertools\n",
    "\n",
    "# Visualization imports\n",
    "import matplotlib.pyplot as plt"
   ]
  },
  {
   "cell_type": "code",
   "execution_count": 40,
   "id": "0035e30a-93c5-4d9f-bcc4-9a469573d911",
   "metadata": {
    "tags": []
   },
   "outputs": [],
   "source": [
    "random.seed(0)"
   ]
  },
  {
   "cell_type": "markdown",
   "id": "ca76aa55-84aa-4b5d-97ce-63e4ca030256",
   "metadata": {},
   "source": [
    "Since this is a Quantum Simulator with the purpose of simulating a QPU, we will use qubits, which are two-level quantum states. Below we will define three qubits, and initialize them in an equal superposition state. We have 1 qubit, thus there will be two possible states."
   ]
  },
  {
   "cell_type": "code",
   "execution_count": 3,
   "id": "85784ca6-1611-489a-871b-479f77a30bb9",
   "metadata": {
    "tags": []
   },
   "outputs": [],
   "source": [
    "# Define the number of qubits in our quantum register\n",
    "n_qubits = 1\n",
    "\n",
    "# Define an initial state vector with equal probability for all states\n",
    "init_state = [1 / math.sqrt(2**n_qubits)] * 2**n_qubits"
   ]
  },
  {
   "cell_type": "code",
   "execution_count": 4,
   "id": "2cda3368-fc8c-4f61-b740-5cdca62ed808",
   "metadata": {},
   "outputs": [
    {
     "data": {
      "text/plain": [
       "[0.7071067811865475, 0.7071067811865475]"
      ]
     },
     "execution_count": 4,
     "metadata": {},
     "output_type": "execute_result"
    }
   ],
   "source": [
    "init_state"
   ]
  },
  {
   "cell_type": "markdown",
   "id": "c2f11b7e-c61b-438a-9194-90a72b53303b",
   "metadata": {},
   "source": [
    "Next, we will be implementing the main block of our simulator which takes a gate, a state, and a noise level and performs the operation."
   ]
  },
  {
   "cell_type": "code",
   "execution_count": 5,
   "id": "a74fa879-cbe1-4c8a-a91d-18c712f5cd3d",
   "metadata": {
    "tags": []
   },
   "outputs": [],
   "source": [
    "# Define quantum gates, including a noise gate that introduces a small amount of random noise in each gate\n",
    "def apply_gate(gate, state, noise_level=0.01):\n",
    "    \"\"\"Here is the main block of our simulator which takes a gate, a state, and a noise level and performs the operation. \n",
    "\n",
    "    Args:\n",
    "        gate (np.ndarray): \n",
    "            The gate matrix.\n",
    "\n",
    "        state (np.array):\n",
    "            The state vector.\n",
    "            \n",
    "        noise_level (float):\n",
    "            The noise level.\n",
    "        \n",
    "    Returns:\n",
    "        (numpy.array): The state vector after the operation.\n",
    "    \"\"\"\n",
    "    # Apply the gate\n",
    "    new_state = [0] * len(state) # First we will initialize our updated state\n",
    "    for i in range(len(state)):\n",
    "        new_state[i] = sum([gate[i][j] * state[j] for j in range(len(state))]) # We will update the entries of the updated state based on the gate and initial state multiplication\n",
    "    # Add noise\n",
    "    for i in range(len(new_state)):\n",
    "        noise = random.gauss(0, noise_level) # We will randomly choose some noise based on the noise level\n",
    "        new_state[i] += noise # And apply it to our state \n",
    "    # Normalize the state\n",
    "    norm = math.sqrt(sum([abs(new_state[i])**2 for i in range(len(new_state))])) # To ensure our state is a valid quantum state, we must normalize to 2-norm\n",
    "    new_state = [new_state[i] / norm for i in range(len(new_state))]\n",
    "    # Return new state\n",
    "    return new_state "
   ]
  },
  {
   "cell_type": "markdown",
   "id": "87233dea-6b11-4554-a649-a6bad7ade8b9",
   "metadata": {},
   "source": [
    "Let's test it out! We will define the Hadamard, Pauli X and Pauli Z gates for testing."
   ]
  },
  {
   "cell_type": "code",
   "execution_count": 6,
   "id": "86a92ce3-d298-42e1-a847-3c015822317f",
   "metadata": {
    "tags": []
   },
   "outputs": [],
   "source": [
    "# Define quantum gates\n",
    "h = [[1/math.sqrt(2), 1/math.sqrt(2)],\n",
    "     [1/math.sqrt(2), -1/math.sqrt(2)]]\n",
    "\n",
    "x = [[0, 1],\n",
    "     [1, 0]]\n",
    "\n",
    "z = [[1, 0],\n",
    "     [0, -1]]"
   ]
  },
  {
   "cell_type": "code",
   "execution_count": 7,
   "id": "a9d08c07-0a97-43d9-afae-4fed48b855c2",
   "metadata": {
    "tags": []
   },
   "outputs": [],
   "source": [
    "# Apply the quantum gates to the initial state vector\n",
    "state = init_state\n",
    "state_h = apply_gate(h, state) # The state after applying Hadamard gate\n",
    "state_x = apply_gate(x, state) # The state after applying the Pauli X gate\n",
    "state_z = apply_gate(z, state) # The state after applying the Pauli Z gate"
   ]
  },
  {
   "cell_type": "code",
   "execution_count": 8,
   "id": "c6174fc9-f35e-4785-ad90-9565caa74861",
   "metadata": {
    "tags": []
   },
   "outputs": [],
   "source": [
    "def calculate_dist(state, shots):\n",
    "    \"\"\"Here we will find the measured states and return them as a bit-string. \n",
    "\n",
    "    Args:\n",
    "        state (np.array):\n",
    "            The state vector.\n",
    "            \n",
    "        shots (int):\n",
    "            The number of shots.\n",
    "        \n",
    "    Returns:\n",
    "        (numpy.array): The measured state bit-string after the operation.\n",
    "    \"\"\"\n",
    "    # Calculate the probability of measuring each state in the final state vector\n",
    "    probs = [abs(state[i])**2 for i in range(len(state))]\n",
    "    print(probs)\n",
    "    # Generate a bit-string of the measured states, weighted by their corresponding probabilities\n",
    "    bit_string = ''\n",
    "    count_one = 0\n",
    "    count_zero = 0\n",
    "    for i in range(shots):\n",
    "        rand = random.uniform(0, 1)\n",
    "        if rand <= probs[0]:\n",
    "            bit_string += '0'\n",
    "            count_zero += 1\n",
    "        else:\n",
    "            bit_string += '1'\n",
    "            count_one += 1\n",
    "    return bit_string, [count_zero, count_one]"
   ]
  },
  {
   "cell_type": "code",
   "execution_count": 9,
   "id": "36380b37-2c3a-470e-81cf-799f0e262854",
   "metadata": {
    "tags": []
   },
   "outputs": [
    {
     "name": "stdout",
     "output_type": "stream",
     "text": [
      "[0.5099438388804204, 0.49005616111957956]\n"
     ]
    },
    {
     "data": {
      "text/plain": [
       "('01101100111101101100', [8, 12])"
      ]
     },
     "execution_count": 9,
     "metadata": {},
     "output_type": "execute_result"
    }
   ],
   "source": [
    "calculate_dist(state_x, 20)"
   ]
  },
  {
   "cell_type": "markdown",
   "id": "735dc57a-9d5a-4d42-b99e-6f0b93b59de2",
   "metadata": {},
   "source": [
    "## Improvement\n",
    "\n",
    "The current simulator is rather elementary, and cannot simulate circuits in the traditional sense, where we would apply gates in a sequence to certain qubits. The approach above is simply to familiarize the reader with how to think about the process. Now, we will take it a step further to write a more elegant code which can be compared to Qiskit's simulator. \n",
    "\n",
    "The main components are the same, however we will be defining them more rigorously."
   ]
  },
  {
   "cell_type": "markdown",
   "id": "413e848c-4827-4548-8ae4-73805b0a0d2b",
   "metadata": {},
   "source": [
    "Below we will define the **Qubit** class."
   ]
  },
  {
   "cell_type": "code",
   "execution_count": 10,
   "id": "c77c2e4b-d189-41e7-b64a-38c81c20c89d",
   "metadata": {
    "tags": []
   },
   "outputs": [],
   "source": [
    "class Qubit:\n",
    "    def __init__(self, c1, c2):\n",
    "        \"\"\" Here we construct a qubit by specifying two complex coefficients c1, c2 such that c1.c1† + c2.c2† = 1 (Born rule).\n",
    "        \n",
    "        Args :\n",
    "            c1 (complex): \n",
    "                complex float for state |0>\n",
    "            c2 (complex): \n",
    "                complex float for state |1>\n",
    "        \"\"\"\n",
    "        try: # We will make sure the state is a valid quantum state (Born rule)\n",
    "            assert isclose((np.sqrt(c1*c1.conjugate() + c2*c2.conjugate())), 1.0, abs_tol=1e-4)\n",
    "        except AssertionError as error:\n",
    "            print(c1, c2)\n",
    "            print(error)\n",
    "        else:\n",
    "            self.state = np.array([c1, c2]) # Define the state\n",
    "\n",
    "    def dirac_representation(self):\n",
    "        \"\"\" Here we plot the qubit state in dirac notation (|psi> = c0|0> + c1|1>).\n",
    "        \"\"\"\n",
    "        return \"{0}|0> + {1}|1>\".format(self.state[0], self.state[1])\n",
    "\n",
    "    def measure(self, shots=1):\n",
    "        \"\"\" Here we measure the state based on the number of shots determining the number of measurements.\n",
    "        \n",
    "        Args :\n",
    "            shots (int) : \n",
    "                Number of measurements.\n",
    "        \n",
    "        Returns: \n",
    "            (np.array) : Results of each measurement.\n",
    "        \"\"\"\n",
    "        prob_one = self.state[1]*self.state[1].conjugate() # Probability of observing 1 (we can similarly do so for observing 0)\n",
    "        result = np.random.binomial(1, prob_one, size=shots) # Using np.random.binomial to find the measured outcome based on the probability distribution\n",
    "        return result # Returning the list of measured outcomes"
   ]
  },
  {
   "cell_type": "code",
   "execution_count": 11,
   "id": "695d7acd-b203-42a1-a926-d175aace61ad",
   "metadata": {
    "tags": []
   },
   "outputs": [],
   "source": [
    "def generate_states(control_bit, target_bit, n):\n",
    "    \"\"\" Here we generate all possible binary integers of bit length n based on the known control_bit, target_bit positions held constant, and return the list of all binary variations as bit-strings.\n",
    "    \n",
    "    Args:\n",
    "        control_bit (int):\n",
    "            Control qubit index.\n",
    "            \n",
    "        target_bit (int):\n",
    "            Target qubit index.\n",
    "        \n",
    "        n (int):\n",
    "            Length of state.\n",
    "        \n",
    "    Returns: \n",
    "        (np.array) : list of bit-strings.\n",
    "    \"\"\"\n",
    "    # Generate all possible binary combinations for n bits\n",
    "    binary_combinations = [list(i) for i in itertools.product([0, 1], repeat=n)]\n",
    "    return_list = []  # Create an empty list to be populated\n",
    "\n",
    "    # For all elements, replace the first bit element to first bit value, similarly for the second bit\n",
    "    for i in range(len(binary_combinations)):\n",
    "        binary_combinations[i][control_bit] = 1\n",
    "        binary_combinations[i][target_bit] = 0\n",
    "\n",
    "        # Convert each list to a bit-string\n",
    "        strings = [str(i) for i in binary_combinations[i]]\n",
    "        bin_string = \"\".join(strings)\n",
    "\n",
    "        # Only add to the return list if it's unique\n",
    "        if bin_string not in return_list:\n",
    "            return_list.append(bin_string)\n",
    "\n",
    "    return return_list # Return the list of all possible measurable outcomes"
   ]
  },
  {
   "cell_type": "code",
   "execution_count": 12,
   "id": "da34c446-a36f-47b6-b1ad-e423be62f5a9",
   "metadata": {
    "tags": []
   },
   "outputs": [],
   "source": [
    "def get_binary(x, n):\n",
    "    \"\"\" Here we determine the binary representation of an int x (base 10) given that x <= 2^n where n is an int representing the total bit length.\n",
    "    \n",
    "    Args :\n",
    "        x (int): \n",
    "            base 10 int of interest.\n",
    "        n (int): \n",
    "            bit length.\n",
    "    \n",
    "    Returns : \n",
    "        (str) : x written in base 2.\n",
    "    \"\"\"\n",
    "    binary_result = ''\n",
    "    target = x\n",
    "\n",
    "    for i in np.arange(n-1, -1, -1):\n",
    "        if 2**i > target:\n",
    "            binary_result += '0'\n",
    "        else:\n",
    "            binary_result += '1'\n",
    "            target -= 2**i\n",
    "\n",
    "    return binary_result"
   ]
  },
  {
   "cell_type": "markdown",
   "id": "69574cf4-1cad-4cb9-a57e-85547bb973cd",
   "metadata": {},
   "source": [
    "Below we will define the Circuit class, which encompasses the gates and the simulator with addition of noise."
   ]
  },
  {
   "cell_type": "code",
   "execution_count": 37,
   "id": "53f25b1f-46a8-4443-8e63-ba7c623bf84f",
   "metadata": {
    "tags": []
   },
   "outputs": [],
   "source": [
    "class Circuit:\n",
    "    \"\"\"\n",
    "    Part 1 : Gate Construction\n",
    "    \"\"\"\n",
    "    \n",
    "    hadamard_matrix = 1 / np.sqrt(2) * np.array([[1,  1],\n",
    "                                                 [1, -1]])\n",
    "\n",
    "    pauliX_matrix = np.array([[0, 1],\n",
    "                              [1, 0]])\n",
    "\n",
    "    pauliY_matrix = np.array([[0, -1j],\n",
    "                              [1j, 0]])\n",
    "\n",
    "    pauliZ_matrix = np.array([[1, 0],\n",
    "                              [0, -1]])\n",
    "\n",
    "    gate_to_matrix = {'H': hadamard_matrix,\n",
    "                      'X': pauliX_matrix,\n",
    "                      'Y': pauliY_matrix,\n",
    "                      'Z': pauliZ_matrix}\n",
    "\n",
    "    def __init__(self, num_qubits):\n",
    "        \"\"\" Here we construct a circuit by specifying the number of qubits.\n",
    "        \n",
    "        Args :\n",
    "            num_qubits (int): \n",
    "                The number of qubits in the circuit.\n",
    "        \"\"\"\n",
    "        assert(num_qubits > 0)  # Making certain we don't have a circuit without any qubits\n",
    "\n",
    "        circuit_state = np.zeros(2**num_qubits, dtype=float)  # Initializing the circuit state in |000...0>\n",
    "        circuit_state[0] = 1.0                               \n",
    "\n",
    "        self.circuit_state = circuit_state  # Setting the circuit state\n",
    "        self.num_qubits = num_qubits # Setting the number of qubits\n",
    "        self.gate_array = []  # Initializing a list for the gates to be applied\n",
    "\n",
    "    def __repr__(self):\n",
    "        \"\"\" Here we create a string display of the circuit for visualization.\n",
    "        \"\"\"\n",
    "        display = ''\n",
    "        circuit_rows = []\n",
    "\n",
    "        for i in range(self.num_qubits):\n",
    "            circuit_rows.append(['q{}: |0>--'.format(i)]) # Initializing each qubit in the 0 state\n",
    "\n",
    "        for gate_operation in self.gate_array:\n",
    "            # Controlled qubit gates\n",
    "            if len(gate_operation) == 3: # We have a target index, a control index, and the gate to be applied to the target qubit\n",
    "                control_index = gate_operation[1][0]\n",
    "                target_index = gate_operation[1][1]\n",
    "\n",
    "                circuit_rows[control_index].append('▀-') # Plotting the control unitary\n",
    "                circuit_rows[target_index].append('{}-'.format(gate_operation[2])) # Plotting the target gate (TX, TY, TZ, TH)\n",
    "            \n",
    "            # Single qubit gates\n",
    "            else:\n",
    "                for index in gate_operation[1]:\n",
    "                    circuit_rows[index].append(gate_operation[0] + '--') # Plotting single qubit gates\n",
    "\n",
    "            max_len = max([len(row) for row in circuit_rows])\n",
    "            for row in circuit_rows:\n",
    "                while len(row) < max_len:\n",
    "                    row.append('---')\n",
    "\n",
    "        for row in circuit_rows:\n",
    "            display += \"\".join(row) + '--Measurement\\n'\n",
    "\n",
    "        return display # Returning the string of the circuit\n",
    "\n",
    "    def apply_noise(self, noise_level=0.0):\n",
    "        \"\"\" Here we add the noise to our circuit for each operation.\n",
    "        \n",
    "        Args : \n",
    "            noise_level (float):\n",
    "                The noise level.\n",
    "        \"\"\"\n",
    "        new_state = self.circuit_state\n",
    "        \n",
    "        # Adding noise\n",
    "        for i in range(len(new_state)):\n",
    "            noise = random.gauss(0, noise_level) # We will randomly choose some noise based on the noise level\n",
    "            new_state[i] += noise # And apply it to our state \n",
    "        \n",
    "        # Normalizing the state\n",
    "        norm = math.sqrt(sum([abs(new_state[i])**2 for i in range(len(new_state))])) # To ensure our state is a valid quantum state, we must normalize to 2-norm\n",
    "        new_state = [new_state[i] / norm for i in range(len(new_state))]\n",
    "        \n",
    "        # Updating circuit state\n",
    "        self.circuit_state = new_state\n",
    "        \n",
    "    def add_singleQubit_gate(self, qubit, gate):\n",
    "        \"\"\" Here we add an abstract single qubit gate to the circuit based on the qubit index and gate chosen.\n",
    "        \n",
    "        Args :\n",
    "            qubit (int OR np.array): \n",
    "                List of qubit index/indices to apply the gate to.\n",
    "            gate (str): \n",
    "                The string for the gate to apply.\n",
    "        \"\"\"\n",
    "        if not type(qubit) is list: # Making sure the datatype for the qubit is a list\n",
    "            qubit = [qubit]\n",
    "            \n",
    "        gate_operation = (gate, qubit)         # Storing the data required for the circuit operation\n",
    "        self.gate_array.append(gate_operation)    # Storing the gate_array for the circuit\n",
    "\n",
    "    def add_controlledQubit_gate(self, control_index, target_index, gate):\n",
    "        \"\"\" Here we add an abstract controlled qubit gate to the circuit based on the target and control qubit index and gate chosen.\n",
    "        \n",
    "        Args :\n",
    "            control_index (int): \n",
    "                The control qubit index.\n",
    "            target_index (int): \n",
    "                The target qubit index.\n",
    "            gate (str): \n",
    "                The string for the gate to apply.\n",
    "        \"\"\"\n",
    "        gate_operation = ('CQ', [control_index, target_index], gate)  # Storing the data required for the circuit operation (Control qubit, Target qubit, gate to be applied)\n",
    "        self.gate_array.append(gate_operation)                        # Storing the gate_array for the circuit\n",
    "\n",
    "    def apply_controlled_gate(self, control_index, target_index, gate_matrix, noise_level):\n",
    "        \"\"\" Here we apply the control unitary so that the gate is applied based on the control qubit.\n",
    "        \n",
    "        Args : \n",
    "            control_index (int): \n",
    "                The control qubit index.\n",
    "            target_index (int): \n",
    "                The target qubit index.\n",
    "            gate_matrix (np.ndarray): \n",
    "                The unitary matrix corresponding to the gate.\n",
    "            noise_level (float):\n",
    "                The noise_level.\n",
    "        \"\"\"\n",
    "        # Adjusting indices based on common notation\n",
    "        control_index = self.num_qubits - (control_index + 1)\n",
    "        target_index = self.num_qubits - (target_index + 1) \n",
    "        unique_qubit_combinations = generate_states(control_index, target_index, self.num_qubits)\n",
    "        \n",
    "        # Iterating over all unique combinations\n",
    "        for combination in unique_qubit_combinations:  \n",
    "            qubit_zero_combination = combination\n",
    "            qubit_one_combination = combination[:target_index] + '1' + combination[target_index + 1:]\n",
    "            index_zero = int(qubit_zero_combination, 2)\n",
    "            index_one = int(qubit_one_combination, 2)\n",
    "\n",
    "            state_vector = np.array([self.circuit_state[index_zero], self.circuit_state[index_one]]) # Defining the state\n",
    "            state_vector = gate_matrix @ state_vector # Applying the gate to the state vector\n",
    "            \n",
    "            # Updating components of the circuit state vector\n",
    "            self.circuit_state[index_zero] = state_vector[0] \n",
    "            self.circuit_state[index_one] = state_vector[1]\n",
    "            self.apply_noise(noise_level)\n",
    "\n",
    "    def apply_gate(self, gate_matrix, noise_level):\n",
    "        \"\"\" Here we apply the gate unitary matrix to the circuit state to update it. Since single qubit gates are tensor decomposable, we can combine them outside of the tensor product and apply them directly to the state vector.\n",
    "        \n",
    "        Args : \n",
    "            gate_matrix (np.ndarray): \n",
    "                The gate unitary matrix.\n",
    "            noise_level (float):\n",
    "                The noise_level.\n",
    "        \"\"\"\n",
    "        self.circuit_state = gate_matrix @ self.circuit_state # Applying the gate to the circuit state\n",
    "        self.apply_noise(noise_level)\n",
    "\n",
    "    # Quick access for applying gates similar to Qiskit\n",
    "    def h(self, qubit):\n",
    "        self.add_singleQubit_gate(qubit, 'H')\n",
    "\n",
    "    def ch(self, control_qubit, target_qubit):\n",
    "        self.add_controlledQubit_gate(control_qubit, target_qubit, 'H')\n",
    "\n",
    "    def x(self, qubit):\n",
    "        self.add_singleQubit_gate(qubit, 'X')\n",
    "\n",
    "    def cx(self, control_qubit, target_qubit):\n",
    "        self.add_controlledQubit_gate(control_qubit, target_qubit, 'X')\n",
    "\n",
    "    def y(self, qubit):\n",
    "        self.add_singleQubit_gate(qubit, 'Y')\n",
    "\n",
    "    def cy(self, control_qubit, target_qubit):\n",
    "        self.add_controlledQubit_gate(control_qubit, target_qubit, 'Y')\n",
    "\n",
    "    def z(self, qubit):\n",
    "        self.add_singleQubit_gate(qubit, 'Z')\n",
    "\n",
    "    def cz(self, control_qubit, target_qubit):\n",
    "        self.add_controlledQubit_gate(control_qubit, target_qubit, 'Z')\n",
    "    \n",
    "    \"\"\"\n",
    "    Part 2 : Circuit Simulation\n",
    "    \"\"\"\n",
    "        \n",
    "    def run(self, noise_level,status=True):\n",
    "        \"\"\" Here we will update the circuit_state vector to illustrate the results of the circuit after being run.\n",
    "        \n",
    "        Args :\n",
    "            noise_level (float):\n",
    "                    The noise_level.\n",
    "            status (bool): \n",
    "                Logging messgaes as we process the circuit.\n",
    "        \"\"\"\n",
    "        total_layers = len(self.gate_array)\n",
    "        \n",
    "        # Iterating over all the layers of the circuit\n",
    "        for layer, gate_operation in enumerate(self.gate_array):\n",
    "            # If logging status is set to True, we print out the completed layers' checkpoint as we proceed (we recommend turning this on for deep PQCs for keeping track of the progress)\n",
    "            if status is True:\n",
    "                print('Processing layer {}/{} ...'.format(layer + 1, total_layers))\n",
    "\n",
    "            gate_str = gate_operation[0]\n",
    "            \n",
    "            # Running the Controlled qubit gates\n",
    "            if gate_str == 'CQ':                      \n",
    "                control_index = gate_operation[1][0]       \n",
    "                target_index = gate_operation[1][1]\n",
    "                gate_matrix = self.gate_to_matrix[gate_operation[2]] \n",
    "                \n",
    "                # Applying the gate\n",
    "                self.apply_controlled_gate(control_index, target_index, gate_matrix, noise_level)  \n",
    "            \n",
    "            # Running the Single qubit gates\n",
    "            else:\n",
    "                gate = np.eye(2)  \n",
    "                if self.num_qubits - 1 in gate_operation[1]:  \n",
    "                    gate = self.gate_to_matrix[gate_str]    \n",
    "                \n",
    "                # Running for each qubit at each layer\n",
    "                for index in np.arange(self.num_qubits - 2, -1, -1):   \n",
    "                    unitary_matrix = self.gate_to_matrix[gate_str]\n",
    "\n",
    "                    qubit_gate = np.eye(2)\n",
    "                    if index in gate_operation[1]:        \n",
    "                        qubit_gate = unitary_matrix\n",
    "                    gate = np.kron(gate, qubit_gate)   \n",
    "                \n",
    "                # Applying the gate\n",
    "                self.apply_gate(gate, noise_level)                 \n",
    "        \n",
    "        # If logging status is set to True, we print out Done! when the running has completed\n",
    "        if status is True:\n",
    "            print('Done!')\n",
    "        # Emptying the gate list (we do so that when we add new gates to the circuit, we don't re-run the old gates on the updated state)\n",
    "        self.gate_array = []\n",
    "\n",
    "    def simulate(self, shots=100)->dict:\n",
    "        \"\"\" Here we simulate repeated measurements on the prepared state.\n",
    "        \n",
    "        Args :\n",
    "            shots (int):\n",
    "                The number of measurements of the circuit.\n",
    "        \n",
    "        Return : \n",
    "            (dict): The dictionary where the keys are a bit-string representing the measured state, and the value is the number of observations for that state.\n",
    "        \"\"\"\n",
    "        probabilities = [i * np.conj(i) for i in self.circuit_state]  \n",
    "        # Protocol for when we have a Real Amplitude PQC\n",
    "        try:\n",
    "            probabilities = [float(i) for i in probabilities]        \n",
    "        except np.ComplexWarning:\n",
    "            probabilities = [float(i) for i in probabilities]       \n",
    "\n",
    "        results = np.random.multinomial(shots, probabilities, size=1) # Drawing the result based on the distribution and number of shots\n",
    "        counts = {}\n",
    "\n",
    "        for index, value in enumerate(results[0]):\n",
    "            key = get_binary(index, self.num_qubits) # Determining the bit-string representation of the measured state\n",
    "            counts[key] = value\n",
    "\n",
    "        return counts # Returning the dictionary"
   ]
  },
  {
   "cell_type": "markdown",
   "id": "caee6d9e-7ea3-44d5-9f40-e08c20c3e053",
   "metadata": {
    "tags": []
   },
   "source": [
    "## Testing\n",
    "Below we will test out the new approach with a few noise levels. We will be testing the Bell state to test both single qubit as well as multi-qubit operations in one circuit."
   ]
  },
  {
   "cell_type": "code",
   "execution_count": 42,
   "id": "50369a3f-93fe-499c-bd00-0ffbcb3f0e30",
   "metadata": {
    "tags": []
   },
   "outputs": [
    {
     "name": "stdout",
     "output_type": "stream",
     "text": [
      "This is the circuit:\n",
      "q0: |0>----Measurement\n",
      "q1: |0>----Measurement\n",
      "\n",
      "q0: |0>--H--▀---Measurement\n",
      "q1: |0>-----X---Measurement\n",
      "\n",
      "The state vector from qsim is : [0.7071067811865476, 0.0, 0.0, 0.7071067811865476]\n",
      "{'00': 520, '01': 0, '10': 0, '11': 504}\n"
     ]
    },
    {
     "data": {
      "image/png": "[encoded data removed]",
      "text/plain": [
       "<Figure size 640x480 with 1 Axes>"
      ]
     },
     "metadata": {},
     "output_type": "display_data"
    },
    {
     "name": "stdout",
     "output_type": "stream",
     "text": [
      "This is the circuit:\n",
      "q0: |0>----Measurement\n",
      "q1: |0>----Measurement\n",
      "\n",
      "q0: |0>--H--▀---Measurement\n",
      "q1: |0>-----X---Measurement\n",
      "\n",
      "The state vector from qsim is : [0.6450811131971808, 0.12545985491240358, 0.0903790200238968, 0.7483059634542308]\n",
      "{'00': 433, '01': 18, '10': 6, '11': 567}\n"
     ]
    },
    {
     "data": {
      "image/png": "[encoded data removed]",
      "text/plain": [
       "<Figure size 640x480 with 1 Axes>"
      ]
     },
     "metadata": {},
     "output_type": "display_data"
    },
    {
     "name": "stdout",
     "output_type": "stream",
     "text": [
      "This is the circuit:\n",
      "q0: |0>----Measurement\n",
      "q1: |0>----Measurement\n",
      "\n",
      "q0: |0>--H--▀---Measurement\n",
      "q1: |0>-----X---Measurement\n",
      "\n",
      "The state vector from qsim is : [0.5850336976426581, -0.049745120692148974, -0.36467007311658944, 0.7226871614765437]\n",
      "{'00': 368, '01': 4, '10': 140, '11': 512}\n"
     ]
    },
    {
     "data": {
      "image/png": "[encoded data removed]",
      "text/plain": [
       "<Figure size 640x480 with 1 Axes>"
      ]
     },
     "metadata": {},
     "output_type": "display_data"
    },
    {
     "name": "stdout",
     "output_type": "stream",
     "text": [
      "This is the circuit:\n",
      "q0: |0>----Measurement\n",
      "q1: |0>----Measurement\n",
      "\n",
      "q0: |0>--H--▀---Measurement\n",
      "q1: |0>-----X---Measurement\n",
      "\n",
      "The state vector from qsim is : [0.618646034867466, -0.6115268024080109, 0.37585368208658987, 0.3194464949586208]\n",
      "{'00': 389, '01': 406, '10': 137, '11': 92}\n"
     ]
    },
    {
     "data": {
      "image/png": "[encoded data removed]",
      "text/plain": [
       "<Figure size 640x480 with 1 Axes>"
      ]
     },
     "metadata": {},
     "output_type": "display_data"
    }
   ],
   "source": [
    "noise_list = [0.0, 0.1, 0.2, 0.5]\n",
    "for i in range(len(noise_list)):\n",
    "    # initializing a quantum circuit using quantum simulator: \n",
    "    circ = Circuit(2)\n",
    "    print('This is the circuit:')  \n",
    "    print(circ)\n",
    "    \n",
    "    circ.h(0) # Applying hadamard gate to first qubit \n",
    "    circ.cx(0,1)        # A a CX gate to first qubit and second qubit \n",
    "    print(circ)\n",
    "    \n",
    "    # display the state vectors for each circuit \n",
    "    circ.run(status=False, noise_level=noise_list[i])\n",
    "    print('The state vector from qsim is : {}'.format(circ.circuit_state))\n",
    "    \n",
    "    # plot 1024 simulated measurements of circuits:\n",
    "    counts = circ.simulate(shots=1024)\n",
    "    print(counts)\n",
    "    \n",
    "    plt.bar(range(len(counts)), counts.values()) # Bar chart of measured state occurences\n",
    "    plt.xticks(range(len(counts)), list(counts.keys()))\n",
    "    plt.show()"
   ]
  },
  {
   "cell_type": "code",
   "execution_count": null,
   "id": "dc617e41-242e-4a3d-8d49-92d17b9086c7",
   "metadata": {},
   "outputs": [],
   "source": []
  }
 ],
 "metadata": {
  "kernelspec": {
   "display_name": "Python 3 (ipykernel)",
   "language": "python",
   "name": "python3"
  },
  "language_info": {
   "codemirror_mode": {
    "name": "ipython",
    "version": 3
   },
   "file_extension": ".py",
   "mimetype": "text/x-python",
   "name": "python",
   "nbconvert_exporter": "python",
   "pygments_lexer": "ipython3",
   "version": "3.10.8"
  },
  "widgets": {
   "application/vnd.jupyter.widget-state+json": {
    "state": {},
    "version_major": 2,
    "version_minor": 0
   }
  }
 },
 "nbformat": 4,
 "nbformat_minor": 5
}
